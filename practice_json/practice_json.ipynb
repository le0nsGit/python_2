{
 "metadata": {
  "language_info": {
   "codemirror_mode": {
    "name": "ipython",
    "version": 3
   },
   "file_extension": ".py",
   "mimetype": "text/x-python",
   "name": "python",
   "nbconvert_exporter": "python",
   "pygments_lexer": "ipython3",
   "version": "3.9.1-final"
  },
  "orig_nbformat": 2,
  "kernelspec": {
   "name": "python3",
   "display_name": "Python 3.9.1 64-bit",
   "metadata": {
    "interpreter": {
     "hash": "ac59ebe37160ed0dfa835113d9b8498d9f09ceb179beaac4002f036b9467c963"
    }
   }
  }
 },
 "nbformat": 4,
 "nbformat_minor": 2,
 "cells": [
  {
   "cell_type": "code",
   "execution_count": 2,
   "metadata": {},
   "outputs": [
    {
     "output_type": "stream",
     "name": "stdout",
     "text": [
      "{\"Bills\": \"'Birthday:January: 1964\", \"Hail Mary\": \" 'Footaball: 16 Seconds'\", \"It's Monday\": false, \"Cost\": 9.99, \"count\": 4, \"options\": {\"a\": 1, \"b\": 2, \"c\": 33}}\n"
     ]
    }
   ],
   "source": [
    "#imports json\n",
    "import json\n",
    "\n",
    "# create data structure in python that will encode/serialize into json spec\n",
    "course_films  =  {}\n",
    "course_films['Bills'] = \"'Birthday:January: 1964\"\n",
    "course_films [\"Hail Mary\"] =\" 'Footaball: 16 Seconds'\"\n",
    "course_films[\"It's Monday\"] = False\n",
    "course_films[\"Cost\"] = 9.99\n",
    "course_films[\"count\"] = len(course_films)\n",
    "course_films[\"options\"] = {'a':1, 'b':2, 'c':33}\n",
    "#writes to json files\n",
    "print(json.dumps(course_films))\n",
    "with open ('course_films.json', 'w') as f:\n",
    "  f.write(json.dumps (course_films))"
   ]
  },
  {
   "cell_type": "code",
   "execution_count": null,
   "metadata": {},
   "outputs": [],
   "source": []
  }
 ]
}