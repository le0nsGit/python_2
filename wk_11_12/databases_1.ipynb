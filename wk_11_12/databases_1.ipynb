{
 "cells": [
  {
   "cell_type": "markdown",
   "source": [
    "Store data from www.nhtsa.gov/recalls in table."
   ],
   "metadata": {
    "collapsed": false
   }
  },
  {
   "cell_type": "markdown",
   "source": [
    "table 1\n",
    "id (pk,int), manufacturer (text), country (text)\n",
    "\n",
    "1, ford, usa\n",
    "\n",
    "2, isuzu, japan"
   ],
   "metadata": {
    "collapsed": false
   }
  },
  {
   "cell_type": "markdown",
   "source": [
    "table 2\n",
    "id (pk,int), name(text), make_fk(foreign_key,text)\n",
    "\n",
    "1, trooper, 2\n",
    "2, amigo, 2\n",
    "3, ranger, 1\n",
    "4, focus, 1\n",
    "5, f-150, 1"
   ],
   "metadata": {
    "collapsed": false
   }
  },
  {
   "cell_type": "code",
   "execution_count": 1,
   "outputs": [],
   "source": [
    "import sqlite3\n",
    "\n",
    "#connect to db\n",
    "dbconn = sqlite3.connect('nthsa_recalls.db')\n",
    "\n",
    "#ask the connection for a cursor object\n",
    "cursor = dbconn.cursor()"
   ],
   "metadata": {
    "collapsed": false,
    "pycharm": {
     "name": "#%%\n"
    }
   }
  },
  {
   "cell_type": "code",
   "execution_count": 2,
   "outputs": [
    {
     "name": "stdout",
     "output_type": "stream",
     "text": [
      "(1, 'ford', 'usa')\n",
      "(2, 'isuzu', 'japan')\n"
     ]
    }
   ],
   "source": [
    "#asks the connection for and object called a cursor(port to database)\n",
    "cursor = dbconn.cursor()\n",
    "\n",
    "#create table if does not exist\n",
    "mnfg_table_sql = '''\n",
    "       CREATE TABLE IF NOT EXISTS\n",
    "       manufacturer(\n",
    "       id INTEGER,\n",
    "       mnfg_name TEXT NOT NULL,\n",
    "       country TEXT NOT NULL\n",
    "       )\n",
    "       '''\n",
    "\n",
    "\n",
    "\n",
    "\n",
    "#pass in our SQL as plain text\n",
    "cursor.execute(mnfg_table_sql)\n",
    "\n",
    "#must commit to make permenant\n",
    "dbconn.commit()\n",
    "\n",
    "#creates insert queries\n",
    "mnfg_insert1 = '''\n",
    "    INSERT INTO manufacturer(id, mnfg_name, country)\n",
    "    VALUES(1,'ford', 'usa');\n",
    "\n",
    "\n",
    "'''\n",
    "\n",
    "mnfg_insert2 = '''\n",
    "        INSERT INTO manufacturer (id, mnfg_name, country)\n",
    "        VALUES(2,'isuzu', 'japan');\n",
    "'''\n",
    "#insert data into database table\n",
    "cursor.execute(mnfg_insert1)\n",
    "cursor.execute(mnfg_insert2)\n",
    "\n",
    "dbconn.commit()\n",
    "\n",
    "#run query\n",
    "cursor.execute('SELECT * FROM manufacturer')\n",
    "\n",
    "#stores all records\n",
    "records = cursor.fetchall()\n",
    "\n",
    "#loops through records and prints\n",
    "for row in records:\n",
    "    print(row)\n",
    "\n",
    "\n",
    "\n"
   ],
   "metadata": {
    "collapsed": false,
    "pycharm": {
     "name": "#%%\n"
    }
   }
  }
 ],
 "metadata": {
  "kernelspec": {
   "display_name": "Python 3",
   "language": "python",
   "name": "python3"
  },
  "language_info": {
   "codemirror_mode": {
    "name": "ipython",
    "version": 2
   },
   "file_extension": ".py",
   "mimetype": "text/x-python",
   "name": "python",
   "nbconvert_exporter": "python",
   "pygments_lexer": "ipython2",
   "version": "2.7.6"
  }
 },
 "nbformat": 4,
 "nbformat_minor": 0
}