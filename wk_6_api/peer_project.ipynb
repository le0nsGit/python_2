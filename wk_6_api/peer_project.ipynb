{
 "cells": [
  {
   "cell_type": "code",
   "execution_count": null,
   "metadata": {
    "collapsed": true,
    "pycharm": {
     "name": "#%%\n"
    }
   },
   "outputs": [],
   "source": [
    "#define some functions\n",
    "def function0():\n",
    "  print(\"This is function 0\")\n",
    "\n",
    "def function1():\n",
    "  print(\"This is function 1\")\n",
    "\n",
    "def function2():\n",
    "  print(\"This is function 2\",\"\\n\")\n",
    "\n",
    "\n",
    "## Append the functions to a list\n",
    "list_of_functions = (function0, function1, function2)\n",
    "\n",
    "## Call each of the functions one at a time\n",
    "print(\"\\nHow to call each function in a list of functions.\")\n",
    "list_of_functions[0]()\n",
    "list_of_functions[1]()\n",
    "list_of_functions[2]()\n",
    "\n",
    "\n",
    "## Loop over the entire list of functions call each in order\n",
    "# print(\"\\nHow to iterate through a list of functions.\\n\")\n",
    "# for i in range(len(list_of_functions)):\n",
    "#   list_of_functions[i]()\n",
    "\n"
   ]
  },
  {
   "cell_type": "code",
   "execution_count": null,
   "outputs": [],
   "source": [
    "## define some functions with parameters\n",
    "# def function3(x):\n",
    "#   print(\"This is function \", x,\"\\n\")\n",
    "#   \n",
    "# #\n",
    "# # def function4(x,y):\n",
    "# #   print(\"This is function \", x)\n",
    "# #   print(\"I have $\", y,\"\\n\")\n",
    "# #\n",
    "# # def function5(x,y,z):\n",
    "# #   print(\"This is function \",x)\n",
    "# #   print(\"The sun is yellow: \", y)\n",
    "# #   print(f'I am {z} in line.\\n')\n",
    "\n",
    "# list of functions with parameters\n",
    "\n",
    "\n",
    "## Append the functions to a list\n",
    "# list_of_functions2 = [ function3, function4, function5 ]\n",
    "\n",
    "## Call each of the functions one at a time\n",
    "# print(\"\\nHow to call each function in a list of functions.\")\n",
    "# list_of_functions2[0](3)\n",
    "# list_of_functions2[1](4, \"340.00\")\n",
    "# list_of_functions2[2](5, True, \"First\")\n",
    "\n",
    "\n",
    "## Loop over the entire list of functions call each in order\n",
    "# print(\"\\nHow to iterate through a list of functions.\\n\")\n",
    "# for i in range(len(list_of_functions2)):\n",
    "#   list_of_functions[i]()"
   ],
   "metadata": {
    "collapsed": false,
    "pycharm": {
     "name": "#%%\n"
    }
   }
  },
  {
   "cell_type": "code",
   "execution_count": null,
   "outputs": [],
   "source": [],
   "metadata": {
    "collapsed": false,
    "pycharm": {
     "name": "#%%\n"
    }
   }
  },
  {
   "cell_type": "code",
   "execution_count": null,
   "outputs": [],
   "source": [
    "\n",
    "\n",
    "## define some functions with *args and **kwargs\n",
    "# def function3(x):\n",
    "#   print(\"This is function \", x)\n",
    "#\n",
    "# def function4(x,y):\n",
    "#   print(\"This is function \",x)\n",
    "#   print(\"The don't have $ \", y,\"\\n\")\n",
    "#\n",
    "#\n",
    "# def function5(*args):\n",
    "#\n",
    "#     print(args,\"\\n\")\n",
    "#\n",
    "#     print(\"This is function \",args[0])\n",
    "#     print(\"The see is blue: \", args[1])\n",
    "#     print(f'I am {args[2]} in line, again.\\n')\n",
    "#\n",
    "# def function6(**kwargs):\n",
    "#\n",
    "#     print(kwargs)\n",
    "#\n",
    "#     print(\"This is function \",kwargs[\"x\"])\n",
    "#\n",
    "#     print(\"I have $\", kwargs.get(\"y\"))\n",
    "#\n",
    "#\n",
    "## Append the functions to a list\n",
    "# list_of_functions2 = [ function3, function4, function5, function6 ]\n",
    "#\n",
    "# # Call each of the functions one at a time\n",
    "# print(\"\\nHow to call each function in a list of functions.\")\n",
    "# list_of_functions2[0](3)\n",
    "# list_of_functions2[1](4, \"340.00\")\n",
    "# list_of_functions2[2](5, True, \"First\")\n",
    "# list_of_functions2[3](x=5,y=600.00)\n",
    "#\n",
    "#\n",
    "#\n",
    "## Append the functions to a dictionary\n",
    "# dict_of_functions = {0: function3, 2: function4, \"Steve\": function5, 26.00: function6}\n",
    "#\n",
    "# # Call each of the functions one at a time\n",
    "# print(\"\\nHow to call each function in a list of functions.\")\n",
    "# dict_of_functions.get(0)(3)\n",
    "# dict_of_functions.get(2)(4,750.00)\n",
    "# dict_of_functions.get(\"Steve\")(5,False, \"I'm broke\")\n",
    "# dict_of_functions.get(26.00)(x=6)"
   ],
   "metadata": {
    "collapsed": false,
    "pycharm": {
     "name": "#%%\n"
    }
   }
  }
 ],
 "metadata": {
  "kernelspec": {
   "display_name": "Python 3",
   "language": "python",
   "name": "python3"
  },
  "language_info": {
   "codemirror_mode": {
    "name": "ipython",
    "version": 2
   },
   "file_extension": ".py",
   "mimetype": "text/x-python",
   "name": "python",
   "nbconvert_exporter": "python",
   "pygments_lexer": "ipython2",
   "version": "2.7.6"
  }
 },
 "nbformat": 4,
 "nbformat_minor": 0
}